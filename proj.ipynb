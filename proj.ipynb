{
 "cells": [
  {
   "cell_type": "code",
   "execution_count": 37,
   "id": "1cca4e49-abe2-4737-b82a-147db44772b0",
   "metadata": {},
   "outputs": [],
   "source": [
    "import tensorflow as tf\n",
    "import keras \n",
    "\n",
    "class LocalResponseNormalisation(tf.keras.layers.Layer):\n",
    "        def _init_(self, **kwargs):\n",
    "            super(local_response_Normalisation, self)._init_(**kwargs)\n",
    "\n",
    "        def call(self, M):\n",
    "            return tf.nn.local_response_normalization(M)\n",
    "class ConcatLayer(tf.keras.layers.Layer):\n",
    "    def __init__(self, **kwargs):\n",
    "        super(ConcatLayer, self).__init__(**kwargs)\n",
    "\n",
    "    def call(self, inputs):\n",
    "        return tf.concat(inputs, axis=3)\n",
    "\n",
    "model = tf.keras.models.load_model(\"/home/mk/Downloads/pnuemonia_2.h5\",custom_objects={\"LocalResponseNormalisation\": LocalResponseNormalisation,\"ConcatLayer\":ConcatLayer})\n"
   ]
  },
  {
   "cell_type": "code",
   "execution_count": 38,
   "id": "f96f7b74-b0f9-4c4f-895e-8de8953a5a48",
   "metadata": {},
   "outputs": [],
   "source": [
    "# #TO RESIZE THE I\n",
    "from PIL import Image \n",
    "\n",
    "def imgresize():\n",
    "#Create an Image Object from an Image\"C:\\Users\\mades\\Desktop\\wine.jpg\"\n",
    "  im = Image.open(\"/home/mk/Downloads/Untitled.jpg\")\n",
    "  x=im.size[0]\n",
    "  y=im.size[1]\n",
    "  mf0=224/x\n",
    "  mf1=224/y\n",
    "  resized_im = im.resize((round(im.size[0]*mf0), round(im.size[1]*mf1)))\n",
    "#Save the cropped image\n",
    "  resized_im.save(\"/home/mk/Downloads/project_dataset/d.jpeg\")\n",
    "\n",
    "imgresize()"
   ]
  },
  {
   "cell_type": "code",
   "execution_count": 39,
   "id": "198777ae-c0e6-4de5-89b3-bfedbe6e8aa3",
   "metadata": {
    "scrolled": true
   },
   "outputs": [
    {
     "name": "stdout",
     "output_type": "stream",
     "text": [
      "1/1 [==============================] - 0s 270ms/step\n",
      "[[0.9999785]]\n"
     ]
    }
   ],
   "source": [
    "from tensorflow.keras.preprocessing.image import load_img, img_to_array\n",
    "import numpy as np\n",
    "\n",
    "# Load the image\n",
    "img_path = \"/home/mk/Downloads/project_dataset/d.jpeg\"\n",
    "\n",
    "img = load_img(img_path, target_size=(224, 224)) # Adjust target_size as needed\n",
    "\n",
    "# Convert the image to a NumPy array\n",
    "img_array = img_to_array(img)\n",
    "\n",
    "# Expand dimensions to match the model's expected input shape\n",
    "# Assuming the model expects a 4D tensor with shape [batch_size, height, width, channels]\n",
    "img_array = np.expand_dims(img_array, axis=0)\n",
    "\n",
    "# Now you can pass img_array to model.predict\n",
    "predictions = model.predict(img_array)\n",
    "print(predictions)\n",
    "\n",
    "# import os\n",
    "# import numpy as np\n",
    "# import tensorflow as tf\n",
    "# from tensorflow.keras.preprocessing.image import load_img, img_to_array\n",
    "\n",
    "# # Directory containing the images\n",
    "# img_dir = \"/home/mk/Downloads/project_dataset/chest_xray/test\"\n",
    "\n",
    "# # List to hold loaded images\n",
    "# images = []\n",
    "\n",
    "# # Function to preprocess an image\n",
    "# def preprocess_image(image_path, target_size=(224, 224)):\n",
    "#     img = load_img(image_path, target_size=target_size)\n",
    "#     img_array = img_to_array(img)\n",
    "#     img_array = img_array / 255.0 # Normalize the image\n",
    "#     return img_array\n",
    "\n",
    "# # Iterate over each file in the directory\n",
    "# for filename in os.listdir(img_dir):\n",
    "#     file_path = os.path.join(img_dir, filename)\n",
    "#     if filename.endswith(\".jpg\") or filename.endswith(\".png\"):\n",
    "#         try:\n",
    "#             img_array = preprocess_image(file_path)\n",
    "#             images.append(img_array)\n",
    "#         except Exception as e:\n",
    "#             print(f\"Error loading image {file_path}: {e}\")\n",
    "\n",
    "# # Convert the list of images to a NumPy array\n",
    "# images_array = np.array(images)\n",
    "\n",
    "# # Ensure the correct shape for the model\n",
    "# if images_array.shape[1:] != (224, 224, 3):\n",
    "#     print(f\"Unexpected image shape: {images_array.shape}. Expected (224, 224, 3).\")\n",
    "# else:\n",
    "#     # Assuming your model expects a batch of images, add an extra dimension\n",
    "#     images_array = np.expand_dims(images_array, axis=0)\n",
    "\n",
    "#     # Predict with the model\n",
    "#     predictions = model.predict(images_array)\n",
    "\n",
    "#     # Print predictions\n",
    "#     print(predictions)\n"
   ]
  }
 ],
 "metadata": {
  "kernelspec": {
   "display_name": "Python 3 (ipykernel)",
   "language": "python",
   "name": "python3"
  },
  "language_info": {
   "codemirror_mode": {
    "name": "ipython",
    "version": 3
   },
   "file_extension": ".py",
   "mimetype": "text/x-python",
   "name": "python",
   "nbconvert_exporter": "python",
   "pygments_lexer": "ipython3",
   "version": "3.11.8"
  }
 },
 "nbformat": 4,
 "nbformat_minor": 5
}
